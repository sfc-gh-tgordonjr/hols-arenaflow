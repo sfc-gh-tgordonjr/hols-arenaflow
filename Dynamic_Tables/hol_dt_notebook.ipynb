{
 "metadata": {
  "kernelspec": {
   "display_name": "Streamlit Notebook",
   "name": "streamlit"
  },
  "lastEditStatus": {
   "notebookId": "tcvjd3bruz2wg43wska3",
   "authorId": "6681083712487",
   "authorName": "TGORDONJR",
   "authorEmail": "tony.gordonjr@snowflake.com",
   "sessionId": "db20ad2a-d6ca-4015-b543-540f0db75b84",
   "lastEditTime": 1749260940884
  }
 },
 "nbformat_minor": 5,
 "nbformat": 4,
 "cells": [
  {
   "cell_type": "markdown",
   "id": "3775908f-ca36-4846-8f38-5adca39217f2",
   "metadata": {
    "name": "OVERVIEW",
    "collapsed": false
   },
   "source": "### 1. Welcome to ArenaFlow Stadium Operations Hub\n\n**Objective**: Dive into the ArenaFlow use case and discover how Dynamic Tables power real-time stadium operations.\n\n**What You’ll Learn**:\n- How Dynamic Tables handle high-velocity data for minute-by-minute insights.\n- Steps to build a real-time pipeline for smarter operational decisions.\n- Key Snowflake features in action: Dynamic Tables, Snowpipe, Streams, and Notebooks.\n\n**Scenario**: Imagine a 50,000-seat stadium during a sold-out basketball game. Concession stands are packed, beer stocks are dwindling, and lines are growing. ArenaFlow transforms raw data from POS systems, IoT sensors, queue cameras, and staff apps into a live, minute-by-minute dashboard. This empowers managers to:\n- **Redirect staff** to busy areas, cutting wait times and boosting sales.\n- **Restock inventory** to keep fans supplied with favorites.\n- **Optimize comfort** by tweaking HVAC based on temp and CO2 readings.\n- **Fix issues** like spills or restroom needs for a seamless fan experience.\n\n**Business Value**: Every minute matters in a stadium. Delays or stock-outs frustrate fans, hurting revenue and reviews. Dynamic Tables drive proactive operations, keeping fans happy, spending, and cheering. By the end, you’ll craft a pipeline that delivers these wins, showing Snowflake’s edge for venues.\n\n**Key Features**:\n- **Dynamic Tables**: SQL-based streaming with auto-refresh.\n- **Snowpipe**: Continuous data loading.\n- **Streams & Tasks**: Automated workflows.\n- **Snowflake Notebooks**: SQL and Python collaboration hub.\n\n**Next**: Set up your Snowflake environment to kick off the pipeline."
  },
  {
   "cell_type": "markdown",
   "id": "9e99020e-7b1e-427d-bd81-a237233f3b1a",
   "metadata": {
    "name": "INFO_IMPORT",
    "collapsed": false
   },
   "source": "### 2. Connect to Your Snowflake Session\n\n**Objective**: Establish a Snowpark session to interact with Snowflake.\n\n**Context**: This Python code connects to your active Snowflake session and displays your current context—account, role, database, schema, and warehouse—for verification.\n\n**Value**: A confirmed connection ensures you can execute SQL and Python commands to build the ArenaFlow pipeline, laying the groundwork for real-time data processing.\n\n**Next**: Explore the ArenaFlow data model."
  },
  {
   "cell_type": "code",
   "id": "844951d2-1ad7-4df5-94a9-448a27fbf88b",
   "metadata": {
    "language": "python",
    "name": "IMPORT_CONNECTION"
   },
   "outputs": [],
   "source": "from snowflake.snowpark.context import get_active_session\n\n# establish a session\nsession = get_active_session()\n\n# print the current session context\nprint(f\"\"\"\nSESSION CONTEXT\n  Account:   {session.get_current_account()}\n  Role:      {session.get_current_role()}\n  Database:  {session.get_current_database()}\n  Schema:    {session.get_current_schema()}\n  Warehouse: {session.get_current_warehouse()}\n\"\"\"\n)",
   "execution_count": null
  },
  {
   "cell_type": "markdown",
   "id": "d39e444b-4cc9-4b1b-8d1d-071fa20e9723",
   "metadata": {
    "name": "UNDERSTANDING_MODELS",
    "collapsed": false
   },
   "source": "### 3. Understanding the ArenaFlow Data Model\n\n**Objective**: Grasp the data model powering ArenaFlow’s real-time insights.\n\n**Overview**:\n- **Static Reference Tables (Dimension Layer)**:\n  - **Stand Directory**: Maps concession stands (e.g., “West Concourse”, food).\n  - **Product Catalog**: Details SKUs (e.g., “Draft Beer 16oz”, 300-unit par).\n  - **Sensor Map**: Links IoT sensors to zones (e.g., queue cams in “Lower Bowl A”).\n  - **Maintenance Thresholds**: Sets alert rules (e.g., queue > 15 = warning).\n  - Stable during events, these provide context for live data.\n- **Dynamic Tables (Real-Time Layer)**:\n  - **Raw Events**: Captures all incoming data (sales, inventory, queues).\n  - **Clean Events**: Structures and validates data.\n  - **Sales, Inventory, Queue Metrics**: Delivers minute-by-minute KPIs.\n  - **Ops Alerts**: Flags issues for staff action.\n  - **Arena Dashboard**: Unifies insights for managers.\n\n**Value**: Static tables give consistent context, while Dynamic Tables process live data fast. Together, they enable decisions like rushing staff to busy stands or restocking beer, lifting fan satisfaction and sales (e.g., 5-min shorter queues can boost concessions 10-15%).\n\n**Why It Matters**: A solid data model blends accuracy and speed for actionable, real-time operations.\n\n**Next**: Build the static reference tables."
  },
  {
   "cell_type": "markdown",
   "id": "8d20db44-812b-463a-a27d-7cc6063f8920",
   "metadata": {
    "name": "STATIC_TABLES",
    "collapsed": false
   },
   "source": "### 4. Building Static Reference Tables\n\n**Objective**: Create static tables to enrich real-time event data.\n\n**Context**: These tables—Stand Directory, Product Catalog, Sensor Map, and Maintenance Thresholds—provide metadata to make live data meaningful. For example:\n- **Stand Directory**: Ties sales to locations (e.g., “STAND_001” = West Concourse, food).\n- **Product Catalog**: Maps SKUs to stands and categories (e.g., “SKU_006” = Draft Beer, beverage).\n- **Sensor Map**: Connects sensors to zones (e.g., “SENSOR_001” = queue cam, West Concourse).\n- **Maintenance Thresholds**: Defines alerts (e.g., queue > 15 = warning, > 25 = critical).\n\n**SQL Steps**:\n1. **Stand Directory**: Creates a table with stand IDs, locations, and categories (food, beverage, merch).\n2. **Product Catalog**: Links SKUs to stands, categories, and par levels (e.g., 300 units for beer).\n3. **Sensor Map**: Maps sensors to zones and types (queue_cam, co2, temp, restroom).\n4. **Maintenance Thresholds**: Sets rules for queues, stock, CO2, and temp with severity levels.\n5. **QA Queries**: Each table includes a `SELECT *` to verify data.\n\n**Value**: These tables ground your pipeline in reliable context. Knowing a stand’s location or a threshold for action automates issue detection, speeds decisions, and enhances fan experience—e.g., prioritizing staff to busy areas or flagging low stock.\n\n**Next**: Simulate real-time stadium events."
  },
  {
   "cell_type": "code",
   "id": "bfb1d0e3-659d-4f37-acf7-910cbda3dbd4",
   "metadata": {
    "language": "sql",
    "name": "STATIC_STAND_DIRECTORY"
   },
   "outputs": [],
   "source": "-- Stand Directory\nCREATE TABLE IF NOT EXISTS STAND_DIRECTORY AS\nSELECT\n  stand_id,\n  location,\n  category\nFROM (\n  SELECT\n    'STAND_001' AS stand_id, 'West Concourse' AS location, 'food' AS category\n  UNION ALL\n  SELECT\n    'STAND_002' AS stand_id, 'East Concourse' AS location, 'beverage' AS category\n  UNION ALL\n  SELECT\n    'STAND_003' AS stand_id, 'Lower Bowl A' AS location, 'merch' AS category\n  UNION ALL\n  SELECT\n    'STAND_004' AS stand_id, 'Club Seats North' AS location, 'food' AS category\n  UNION ALL\n  SELECT\n    'STAND_005' AS stand_id, 'Upper Deck South' AS location, 'beverage' AS category\n);",
   "execution_count": null
  },
  {
   "cell_type": "code",
   "id": "75bc08b6-daa0-44b0-8de4-864aefc958f1",
   "metadata": {
    "language": "sql",
    "name": "QA_STAND_DIRECTORY"
   },
   "outputs": [],
   "source": "SELECT *\nFROM STAND_DIRECTORY;",
   "execution_count": null
  },
  {
   "cell_type": "code",
   "id": "c695373e-ac74-4b62-a1f1-08206cbd5c81",
   "metadata": {
    "language": "sql",
    "name": "STATIC_PRODUCT_CATALOG"
   },
   "source": "CREATE OR REPLACE TABLE PRODUCT_CATALOG AS\nSELECT DISTINCT\n  sku_id,\n  name,\n  CASE\n    WHEN sku_id IN ('SKU_001', 'SKU_002', 'SKU_003', 'SKU_004', 'SKU_005') THEN 'STAND_001'\n    WHEN sku_id IN ('SKU_006', 'SKU_007', 'SKU_008', 'SKU_009', 'SKU_010') THEN 'STAND_002'\n    ELSE 'STAND_003'\n  END AS stand_id,\n  CASE\n    WHEN sku_id IN ('SKU_001', 'SKU_002', 'SKU_003', 'SKU_004', 'SKU_005') THEN 'food'\n    WHEN sku_id IN ('SKU_006', 'SKU_007', 'SKU_008', 'SKU_009', 'SKU_010') THEN 'beverage'\n    ELSE 'merch'\n  END AS category,\n  par_level_units\nFROM (\n  -- Food products\n  SELECT 'SKU_001' AS sku_id, 'Cheeseburger' AS name, 150 AS par_level_units\n  UNION ALL\n  SELECT 'SKU_002', 'Hot Dog', 150\n  UNION ALL\n  SELECT 'SKU_003', 'Nachos', 100\n  UNION ALL\n  SELECT 'SKU_004', 'Pizza Slice', 120\n  UNION ALL\n  SELECT 'SKU_005', 'Fries', 200\n\n  -- Beverage products\n  UNION ALL\n  SELECT 'SKU_006', 'Draft Beer 16oz', 300\n  UNION ALL\n  SELECT 'SKU_007', 'Soda 20oz', 250\n  UNION ALL\n  SELECT 'SKU_008', 'Bottled Water', 400\n  UNION ALL\n  SELECT 'SKU_009', 'Iced Tea', 200\n  UNION ALL\n  SELECT 'SKU_010', 'Coffee', 150\n\n  -- Merch products\n  UNION ALL\n  SELECT 'SKU_011', 'Team Jersey', 50\n  UNION ALL\n  SELECT 'SKU_012', 'Cap', 75\n  UNION ALL\n  SELECT 'SKU_013', 'T-Shirt', 100\n  UNION ALL\n  SELECT 'SKU_014', 'Scarf', 60\n  UNION ALL\n  SELECT 'SKU_015', 'Keychain', 200\n) products;",
   "execution_count": null,
   "outputs": []
  },
  {
   "cell_type": "code",
   "id": "db4b3122-dc60-4add-a1d4-8a4d631d9826",
   "metadata": {
    "language": "sql",
    "name": "QA_PRODUCT_CATALOG"
   },
   "outputs": [],
   "source": "SELECT *\nFROM PRODUCT_CATALOG;",
   "execution_count": null
  },
  {
   "cell_type": "code",
   "id": "3b640414-68da-4d9b-8fc8-62a7caedd7b9",
   "metadata": {
    "language": "sql",
    "name": "STATIC_SENSOR_MAP"
   },
   "outputs": [],
   "source": "-- Sensor Map\nCREATE TABLE IF NOT EXISTS SENSOR_MAP AS\nSELECT\n  sensor_id,\n  zone,\n  sensor_type\nFROM (\n  SELECT 'SENSOR_001' AS sensor_id, 'West Concourse' AS zone, 'queue_cam' AS sensor_type\n  UNION ALL\n  SELECT 'SENSOR_002' AS sensor_id, 'East Concourse' AS zone, 'co2' AS sensor_type\n  UNION ALL\n  SELECT 'SENSOR_003' AS sensor_id, 'Lower Bowl A' AS zone, 'temp' AS sensor_type\n  UNION ALL\n  SELECT 'SENSOR_004' AS sensor_id, 'Club Seats North' AS zone, 'restroom' AS sensor_type\n  UNION ALL\n  SELECT 'SENSOR_005' AS sensor_id, 'Upper Deck South' AS zone, 'queue_cam' AS sensor_type\n);",
   "execution_count": null
  },
  {
   "cell_type": "code",
   "id": "35a0aec1-e246-400a-8f8e-9be35f8239ec",
   "metadata": {
    "language": "sql",
    "name": "QA_SENSOR_MAP"
   },
   "outputs": [],
   "source": "SELECT *\nFROM SENSOR_MAP;",
   "execution_count": null
  },
  {
   "cell_type": "code",
   "id": "b0fe7703-bc8f-4c73-801e-c8800a0352d8",
   "metadata": {
    "language": "sql",
    "name": "STATIC_MAINTENANCE_THRESHOLDS"
   },
   "outputs": [],
   "source": "-- Maintenance Thresholds\nCREATE TABLE IF NOT EXISTS MAINTENANCE_THRESHOLDS AS\nSELECT\n  metric_type,\n  threshold_value,\n  severity\nFROM (\n  SELECT 'queue_len' AS metric_type, 15.0 AS threshold_value, 'warning' AS severity\n  UNION ALL\n  SELECT 'queue_len' AS metric_type, 25.0 AS threshold_value, 'critical' AS severity\n  UNION ALL\n  SELECT 'stock_pct' AS metric_type, 0.3 AS threshold_value, 'warning' AS severity\n  UNION ALL\n  SELECT 'stock_pct' AS metric_type, 0.1 AS threshold_value, 'critical' AS severity\n  UNION ALL\n  SELECT 'co2_ppm' AS metric_type, 1200.0 AS threshold_value, 'warning' AS severity\n  UNION ALL\n  SELECT 'co2_ppm' AS metric_type, 1800.0 AS threshold_value, 'critical' AS severity\n  UNION ALL\n  SELECT 'temp_f' AS metric_type, 80.6 AS threshold_value, 'warning' AS severity\n  UNION ALL\n  SELECT 'temp_f' AS metric_type, 86.0 AS threshold_value, 'critical' AS severity\n);",
   "execution_count": null
  },
  {
   "cell_type": "code",
   "id": "eb325694-08a9-403f-aa48-098d4b5e45a9",
   "metadata": {
    "language": "sql",
    "name": "QA_MAINTENANCE_THRESHOLDS"
   },
   "outputs": [],
   "source": "SELECT *\nFROM MAINTENANCE_THRESHOLDS;",
   "execution_count": null
  },
  {
   "cell_type": "markdown",
   "id": "05f17bdb-a2ef-49f3-adb4-5338002d9a51",
   "metadata": {
    "name": "SIM_INTRO",
    "collapsed": false
   },
   "source": "### 5. Simulating Real-Time Stadium Events\n\n**Objective**: Generate synthetic data to mimic live stadium activity.\n\n**Why Simulate?**: Real stadiums stream data from POS, sensors, and cameras constantly. We’ll use synthetic data to replicate:\n- **Sales**: Fans buying burgers or beers.\n- **Inventory**: Stock dropping at stands.\n- **Queues**: Lines growing at concessions.\n\nThis lands in `RAW_EVENTS`, mimicking Snowpipe’s real-time ingestion. Simulation lets you:\n- Test pipeline speed without live feeds.\n- Demo real-time processing safely.\n- Learn Snowflake’s streaming power.\n\n**Value**: Real-time data drives stadium success. A 10-minute delay in spotting a long line could cost hundreds in sales. Synthetic data preps your pipeline for live action, potentially boosting throughput 20% and revenue.\n\n**Next**: Set up the `RAW_EVENTS` table."
  },
  {
   "cell_type": "markdown",
   "id": "802789b2-2168-4f92-b59e-2dc88ee3b75e",
   "metadata": {
    "name": "INTRO_CREATE_RAW_EVENTS",
    "collapsed": false
   },
   "source": "### 6. Creating the Raw Events Table\n\n**Objective**: Build the `RAW_EVENTS` table to capture all event data.\n\n**Context**: This table uses a VARIANT column (`payload`) to store diverse events—sales, inventory, queues, environmental, and cleaning requests—mimicking Snowpipe’s continuous load every few seconds. The SQL generates:\n- **Sales**: 100 rows, ~20/min, with SKUs, units, and prices.\n- **Inventory**: 80 rows, ~16/min, with remaining units.\n- **Queues**: 80 rows, ~16/min, with line lengths.\n- **Environmental**: 100 rows, ~20/min, with temp and CO2.\n- **Clean Requests**: 20 rows, ~4/min, with zones and severity.\n\n**Value**: A unified table simplifies ingestion, scaling to handle peak game traffic. This keeps insights fresh, powering fast decisions to keep fans happy.\n\n**Next**: Learn about the stored procedure for ongoing simulation."
  },
  {
   "cell_type": "code",
   "id": "ba03ff0e-bbab-449d-89e0-304f3b866a0d",
   "metadata": {
    "language": "sql",
    "name": "CREATE_RAW_EVENTS"
   },
   "outputs": [],
   "source": "CREATE OR REPLACE TABLE RAW_EVENTS (\n  event_id STRING,\n  event_type STRING,\n  event_ts TIMESTAMP_NTZ,\n  stand_id STRING,\n  sensor_id STRING,\n  payload VARIANT,\n  ingestion_time TIMESTAMP_NTZ\n) AS\nSELECT\n  event_id,\n  event_type,\n  event_ts,\n  stand_id,\n  sensor_id,\n  payload,\n  ingestion_time\nFROM (\n  -- Sale events (100 rows, ~20 per minute)\n  SELECT\n    'EVT_SALE_INIT_' || SEQ8() AS event_id,\n    'sale' AS event_type,\n    DATEADD(SECOND, UNIFORM(0, 299, RANDOM()), TO_TIMESTAMP_NTZ('2025-05-20 12:00:00')) AS event_ts,\n    CASE\n      WHEN RANDOM() % 5 = 0 THEN 'STAND_001'\n      WHEN RANDOM() % 5 = 1 THEN 'STAND_002'\n      WHEN RANDOM() % 5 = 2 THEN 'STAND_003'\n      WHEN RANDOM() % 5 = 3 THEN 'STAND_004'\n      ELSE 'STAND_005'\n    END AS stand_id,\n    NULL AS sensor_id,\n    OBJECT_CONSTRUCT(\n      'sku_id', \n        CASE \n          WHEN stand_id IN ('STAND_001', 'STAND_004') THEN 'SKU_00' || CAST(MOD(SEQ8(), 5) + 1 AS STRING)\n          WHEN stand_id IN ('STAND_002', 'STAND_005') THEN 'SKU_00' || CAST(MOD(SEQ8(), 5) + 6 AS STRING)\n          ELSE 'SKU_0' || CAST(MOD(SEQ8(), 5) + 11 AS STRING)\n        END,\n      'item_name',\n        CASE\n          WHEN stand_id IN ('STAND_001', 'STAND_004') THEN CASE MOD(SEQ8(), 5)\n            WHEN 0 THEN 'Cheeseburger'\n            WHEN 1 THEN 'Hot Dog'\n            WHEN 2 THEN 'Nachos'\n            WHEN 3 THEN 'Pizza Slice'\n            ELSE 'Fries'\n          END\n          WHEN stand_id IN ('STAND_002', 'STAND_005') THEN CASE MOD(SEQ8(), 5)\n            WHEN 0 THEN 'Draft Beer 16oz'\n            WHEN 1 THEN 'Soda 20oz'\n            WHEN 2 THEN 'Bottled Water'\n            WHEN 3 THEN 'Iced Tea'\n            ELSE 'Coffee'\n          END\n          ELSE CASE MOD(SEQ8(), 5)\n            WHEN 0 THEN 'Team Jersey'\n            WHEN 1 THEN 'Cap'\n            WHEN 2 THEN 'T-Shirt'\n            WHEN 3 THEN 'Scarf'\n            ELSE 'Keychain'\n          END\n        END,\n      'vendor_name', CASE stand_id\n        WHEN 'STAND_001' THEN 'Burger Bonanza'\n        WHEN 'STAND_002' THEN 'Thirsty Fan Brews'\n        WHEN 'STAND_003' THEN 'Team Spirit Merch'\n        WHEN 'STAND_004' THEN 'Pizza Pavilion'\n        ELSE 'Sip & Go'\n      END,\n      'units', UNIFORM(1, 5, RANDOM()),\n      'price', \n        CASE\n          WHEN stand_id IN ('STAND_001', 'STAND_004') THEN CASE MOD(SEQ8(), 5)\n            WHEN 0 THEN 10.0 -- Cheeseburger\n            WHEN 1 THEN 8.0 -- Hot Dog\n            WHEN 2 THEN 7.0 -- Nachos\n            WHEN 3 THEN 6.0 -- Pizza Slice\n            ELSE 5.0 -- Fries\n          END\n          WHEN stand_id IN ('STAND_002', 'STAND_005') THEN CASE MOD(SEQ8(), 5)\n            WHEN 0 THEN 8.0 -- Draft Beer 16oz\n            WHEN 1 THEN 4.0 -- Soda 20oz\n            WHEN 2 THEN 3.0 -- Bottled Water\n            WHEN 3 THEN 4.5 -- Iced Tea\n            ELSE 5.0 -- Coffee\n          END\n          ELSE CASE MOD(SEQ8(), 5)\n            WHEN 0 THEN 50.0 -- Team Jersey\n            WHEN 1 THEN 25.0 -- Cap\n            WHEN 2 THEN 20.0 -- T-Shirt\n            WHEN 3 THEN 15.0 -- Scarf\n            ELSE 5.0 -- Keychain\n          END\n        END\n    ) AS payload,\n    DATEADD(SECOND, 1, event_ts) AS ingestion_time\n  FROM TABLE(GENERATOR(ROWCOUNT => 100))\n  \n  UNION ALL\n  \n  -- Inventory events (80 rows, ~16 per minute)\n  SELECT\n    'EVT_INV_INIT_' || SEQ8() AS event_id,\n    'inventory' AS event_type,\n    DATEADD(SECOND, UNIFORM(0, 299, RANDOM()), TO_TIMESTAMP_NTZ('2025-05-20 12:00:00')) AS event_ts,\n    CASE\n      WHEN RANDOM() % 5 = 0 THEN 'STAND_001'\n      WHEN RANDOM() % 5 = 1 THEN 'STAND_002'\n      WHEN RANDOM() % 5 = 2 THEN 'STAND_003'\n      WHEN RANDOM() % 5 = 3 THEN 'STAND_004'\n      ELSE 'STAND_005'\n    END AS stand_id,\n    NULL AS sensor_id,\n    OBJECT_CONSTRUCT(\n      'sku_id',\n        CASE \n          WHEN stand_id IN ('STAND_001', 'STAND_004') THEN 'SKU_00' || CAST(MOD(SEQ8(), 5) + 1 AS STRING)\n          WHEN stand_id IN ('STAND_002', 'STAND_005') THEN 'SKU_00' || CAST(MOD(SEQ8(), 5) + 6 AS STRING)\n          ELSE 'SKU_0' || CAST(MOD(SEQ8(), 5) + 11 AS STRING)\n        END,\n      'item_name', CASE\n        WHEN stand_id IN ('STAND_001', 'STAND_004') THEN CASE MOD(SEQ8(), 5)\n          WHEN 0 THEN 'Cheeseburger'\n          WHEN 1 THEN 'Hot Dog'\n          WHEN 2 THEN 'Nachos'\n          WHEN 3 THEN 'Pizza Slice'\n          ELSE 'Fries'\n        END\n        WHEN stand_id IN ('STAND_002', 'STAND_005') THEN CASE MOD(SEQ8(), 5)\n          WHEN 0 THEN 'Draft Beer 16oz'\n          WHEN 1 THEN 'Soda 20oz'\n          WHEN 2 THEN 'Bottled Water'\n          WHEN 3 THEN 'Iced Tea'\n          ELSE 'Coffee'\n        END\n        ELSE CASE MOD(SEQ8(), 5)\n          WHEN 0 THEN 'Team Jersey'\n          WHEN 1 THEN 'Cap'\n          WHEN 2 THEN 'T-Shirt'\n          WHEN 3 THEN 'Scarf'\n          ELSE 'Keychain'\n        END\n      END,\n      'vendor_name', CASE stand_id\n        WHEN 'STAND_001' THEN 'Burger Bonanza'\n        WHEN 'STAND_002' THEN 'Thirsty Fan Brews'\n        WHEN 'STAND_003' THEN 'Team Spirit Merch'\n        WHEN 'STAND_004' THEN 'Pizza Pavilion'\n        ELSE 'Sip & Go'\n      END,\n      'units_remaining', UNIFORM(75, 100, RANDOM()) * 0.01 * CASE\n        WHEN stand_id IN ('STAND_001', 'STAND_004') THEN CASE MOD(SEQ8(), 5)\n          WHEN 0 THEN 150 -- Cheeseburger max\n          WHEN 1 THEN 200 -- Hot Dog max\n          WHEN 2 THEN 120 -- Nachos max\n          WHEN 3 THEN 180 -- Pizza Slice max\n          ELSE 300 -- Fries max\n        END\n        WHEN stand_id IN ('STAND_002', 'STAND_005') THEN CASE MOD(SEQ8(), 5)\n          WHEN 0 THEN 450 -- Draft Beer 16oz max\n          WHEN 1 THEN 375 -- Soda 20oz max\n          WHEN 2 THEN 600 -- Bottled Water max\n          WHEN 3 THEN 300 -- Iced Tea max\n          ELSE 225 -- Coffee max\n        END\n        ELSE CASE MOD(SEQ8(), 5)\n          WHEN 0 THEN 75 -- Team Jersey max\n          WHEN 1 THEN 110 -- Cap max\n          WHEN 2 THEN 150 -- T-Shirt max\n          WHEN 3 THEN 90 -- Scarf max\n          ELSE 300 -- Keychain max\n        END\n      END\n    ) AS payload,\n    DATEADD(SECOND, 1, event_ts) AS ingestion_time\n  FROM TABLE(GENERATOR(ROWCOUNT => 80))\n  \n  UNION ALL\n  \n  -- Queue events (80 rows, ~16 per minute)\n  SELECT\n    'EVT_QUEUE_INIT_' || SEQ8() AS event_id,\n    'queue' AS event_type,\n    DATEADD(SECOND, UNIFORM(0, 299, RANDOM()), TO_TIMESTAMP_NTZ('2025-05-20 12:00:00')) AS event_ts,\n    CASE\n      WHEN RANDOM() % 5 = 0 THEN 'STAND_001'\n      WHEN RANDOM() % 5 = 1 THEN 'STAND_002'\n      WHEN RANDOM() % 5 = 2 THEN 'STAND_003'\n      WHEN RANDOM() % 5 = 3 THEN 'STAND_004'\n      ELSE 'STAND_005'\n    END AS stand_id,\n    CASE\n      WHEN stand_id = 'STAND_001' THEN 'SENSOR_001'\n      WHEN stand_id = 'STAND_002' THEN 'SENSOR_002'\n      WHEN stand_id = 'STAND_003' THEN 'SENSOR_003'\n      WHEN stand_id = 'STAND_004' THEN 'SENSOR_004'\n      ELSE 'SENSOR_005'\n    END AS sensor_id,\n    OBJECT_CONSTRUCT(\n      'queue_len', CASE\n        WHEN RANDOM() % 10 < 2 THEN UNIFORM(15, 30, RANDOM())\n        ELSE UNIFORM(5, 15, RANDOM())\n      END\n    ) AS payload,\n    DATEADD(SECOND, 1, event_ts) AS ingestion_time\n  FROM TABLE(GENERATOR(ROWCOUNT => 80))\n  \n  UNION ALL\n  \n  -- Environmental events (100 rows, ~20 per minute)\n  SELECT\n    'EVT_ENV_INIT_' || SEQ8() AS event_id,\n    'env' AS event_type,\n    DATEADD(SECOND, UNIFORM(0, 299, RANDOM()), TO_TIMESTAMP_NTZ('2025-05-20 12:00:00')) AS event_ts,\n    NULL AS stand_id,\n    CASE\n      WHEN RANDOM() % 5 = 0 THEN 'SENSOR_001'\n      WHEN RANDOM() % 5 = 1 THEN 'SENSOR_002'\n      WHEN RANDOM() % 5 = 2 THEN 'SENSOR_003'\n      WHEN RANDOM() % 5 = 3 THEN 'SENSOR_004'\n      ELSE 'SENSOR_005'\n    END AS sensor_id,\n    OBJECT_CONSTRUCT(\n      'temp_f', ROUND(UNIFORM(64.4, 86.0, RANDOM()), 1),\n      'co2_ppm', UNIFORM(600, 1600, RANDOM()),\n      'zone', CASE\n        WHEN sensor_id = 'SENSOR_001' THEN 'West Concourse'\n        WHEN sensor_id = 'SENSOR_002' THEN 'East Concourse'\n        WHEN sensor_id = 'SENSOR_003' THEN 'Lower Bowl A'\n        WHEN sensor_id = 'SENSOR_004' THEN 'Club Seats North'\n        ELSE 'Upper Deck South'\n      END\n    ) AS payload,\n    DATEADD(SECOND, 1, event_ts) AS ingestion_time\n  FROM TABLE(GENERATOR(ROWCOUNT => 100))\n  \n  UNION ALL\n  \n  -- Clean request events (20 rows, ~4 per minute)\n  SELECT\n    'EVT_CLEAN_INIT_' || SEQ8() AS event_id,\n    'clean_req' AS event_type,\n    DATEADD(SECOND, UNIFORM(0, 299, RANDOM()), TO_TIMESTAMP_NTZ('2025-05-20 12:00:00')) AS event_ts,\n    NULL AS stand_id,\n    NULL AS sensor_id,\n    OBJECT_CONSTRUCT(\n      'zone', CASE\n        WHEN RANDOM() % 5 = 0 THEN 'West Concourse'\n        WHEN RANDOM() % 5 = 1 THEN 'East Concourse'\n        WHEN RANDOM() % 5 = 2 THEN 'Lower Bowl A'\n        WHEN RANDOM() % 5 = 3 THEN 'Club Seats North'\n        ELSE 'Upper Deck South'\n      END,\n      'severity', CASE\n        WHEN RANDOM() % 2 = 0 THEN 'warning'\n        ELSE 'critical'\n      END,\n      'description', CASE\n        WHEN RANDOM() % 3 = 0 THEN 'Spill reported near seating area'\n        WHEN RANDOM() % 3 = 1 THEN 'Restroom maintenance needed'\n        ELSE 'Debris in concourse'\n      END\n    ) AS payload,\n    DATEADD(SECOND, 1, event_ts) AS ingestion_time\n  FROM TABLE(GENERATOR(ROWCOUNT => 20))\n);",
   "execution_count": null
  },
  {
   "cell_type": "code",
   "id": "d9d41f8d-8ad9-4004-941b-a027d7a4105c",
   "metadata": {
    "language": "sql",
    "name": "QA_RAW_EVENTS"
   },
   "outputs": [],
   "source": "-- QA\nSELECT *\nFROM RAW_EVENTS;",
   "execution_count": null
  },
  {
   "cell_type": "markdown",
   "id": "3911a1d5-4736-4d9a-9f98-898b70fd49ae",
   "metadata": {
    "name": "INFO_INSERT_ARENA_EVENTS",
    "collapsed": false
   },
   "source": "### 7. Stored Procedure: INSERT_ARENA_EVENTS_SINGLE\n\n### Explanation of Stored Procedure `INSERT_ARENA_EVENTS_SINGLE` for Synthetic Data Generation\n\nThe stored procedure `INSERT_ARENA_EVENTS_SINGLE` is written in Python using Snowflake's Snowpark API to generate synthetic event data for a stadium or arena simulation. It inserts data into the `RAW_EVENTS` table in the `ARENAFLOW.DYNAMIC_TABLES` schema, simulating various types of events (sales, inventory updates, queue lengths, environmental conditions, and cleaning requests). Below is a detailed breakdown of how it generates this synthetic data:\n\n#### 1. **Purpose and Structure**\n- **Purpose**: The procedure simulates real-time events in a stadium by generating a batch of synthetic events for a single iteration, with each iteration representing a short time window (10 seconds). It tracks iterations using a table `ITERATION_TRACKER` to ensure events progress temporally.\n- **Language and Runtime**: Written in Python (version 3.11) using the Snowflake Snowpark library, which allows programmatic interaction with Snowflake tables.\n- **Handler**: The `main` function is the entry point for execution.\n\n#### 2. **Key Components**\n\n##### a. **Initialization**\n- **Timestamp Management**:\n  - Retrieves the maximum `event_ts` from the `RAW_EVENTS` table to determine the starting point for the current iteration's events.\n  - If no events exist or an error occurs, defaults to `2025-05-20 12:00:00`.\n  - Each iteration advances the timestamp by 10 seconds: `start_ts = max_ts + timedelta(seconds=((iteration - 1) * 10))`.\n- **Iteration Tracking**:\n  - Reads the current `iteration` from `ITERATION_TRACKER` and increments it by 1.\n  - Updates `ITERATION_TRACKER` with the new iteration count and current timestamp at the end of the procedure.\n\n##### b. **Event Volume**\n- Randomly determines the number of rows for each event type per iteration:\n  - **Sale events**: 8–16 rows.\n  - **Inventory events**: 6–8 rows.\n  - **Queue events**: 5–6 rows.\n  - **Environmental events**: 5–6 rows.\n  - **Clean request events**: 1–2 rows.\n- Total rows per iteration vary between 25 and 38, simulating fluctuating activity levels.\n\n##### c. **SQL Insert Statement**\n- Constructs a dynamic SQL `INSERT` statement to populate the `RAW_EVENTS` table with synthetic data.\n- Uses `UNION ALL` to combine five subqueries, one for each event type.\n- Each subquery uses Snowflake’s `TABLE(GENERATOR(ROWCOUNT => n))` to create the specified number of rows.\n\n#### 3. **Event Type Generation Details**\n\n##### a. **Sale Events**\n- **Fields**:\n  - `event_id`: Format `EVT_SALE_{iteration}_<sequence>`, using `SEQ8()` for uniqueness.\n  - `event_type`: Fixed as `'sale'`.\n  - `event_ts`: Random timestamp within a 10-second window starting at `start_ts`.\n  - `stand_id`: Randomly assigned from `STAND_001` to `STAND_005` using `SEQ8() % 5`.\n  - `sensor_id`: `NULL`.\n  - `payload`: JSON object containing:\n    - `sku_id`: Determined by `stand_id`:\n      - `STAND_001`, `STAND_004`: `SKU_001` to `SKU_005` (food).\n      - `STAND_002`, `STAND_005`: `SKU_006` to `SKU_010` (beverages).\n      - `STAND_003`: `SKU_011` to `SKU_015` (merchandise).\n    - `item_name`: Maps to `sku_id` (e.g., `SKU_001` → `Cheeseburger`, `SKU_006` → `Draft Beer 16oz`).\n    - `vendor_name`: Maps to `stand_id` (e.g., `STAND_001` → `Burger Bonanza`).\n    - `units`: Randomly 1–5, but 5–10 every 10th iteration to simulate demand spikes.\n    - `price`: Fixed based on `sku_id` (e.g., `Cheeseburger` → $10, `Bottled Water` → $3).\n  - `ingestion_time`: `event_ts + 1 second`.\n- **Logic**: Simulates customer purchases at various stands, with varying quantities and prices based on item type.\n\n##### b. **Inventory Events**\n- **Fields**:\n  - `event_id`: Format `EVT_INV_{iteration}_<sequence>`.\n  - `event_type`: `'inventory'`.\n  - `event_ts`: Random within 10 seconds from `start_ts`.\n  - `stand_id`: Randomly `STAND_001` to `STAND_005`.\n  - `sensor_id`: `NULL`.\n  - `payload`:\n    - `sku_id`, `item_name`, `vendor_name`: Same mapping as sale events.\n    - `units_remaining`: Calculated as a percentage of max inventory:\n      - Normally 75–100% of max (e.g., `SKU_001` max is 150, so 112.5–150 units).\n      - For `STAND_002` every 5th iteration and specific rows (`SEQ8() % 3 = 0`), drops to 50–75% of max to simulate low stock.\n      - Max values are defined per SKU (e.g., `SKU_006` → 450, `SKU_011` → 75).\n  - `ingestion_time`: `event_ts + 1 second`.\n- **Logic**: Simulates periodic inventory checks, with occasional low-stock scenarios at `STAND_002` to trigger alerts or restocking scenarios.\n\n##### c. **Queue Events**\n- **Fields**:\n  - `event_id`: `EVT_QUEUE_{iteration}_<sequence>`.\n  - `event_type`: `'queue'`.\n  - `event_ts`: Random within 10 seconds.\n  - `stand_id`: Randomly `STAND_001`, `STAND_002`, or `STAND_005` (`SEQ8() % 3`).\n  - `sensor_id`: Maps to `stand_id` (e.g., `STAND_001` → `SENSOR_001`).\n  - `payload`:\n    - `queue_len`: Normally 5–15 people, but 20–30 for `STAND_001` every 5th iteration to simulate congestion.\n  - `ingestion_time`: `event_ts + 1 second`.\n- **Logic**: Simulates queue lengths at specific stands, with periodic spikes at `STAND_001` to mimic busy periods.\n\n##### d. **Environmental Events**\n- **Fields**:\n  - `event_id`: `EVT_ENV_{iteration}_<sequence>`.\n  - `event_type`: `'env'`.\n  - `event_ts`: Random within 10 seconds.\n  - `stand_id`: `NULL`.\n  - `sensor_id`: Randomly `SENSOR_001` to `SENSOR_005`.\n  - `payload`:\n    - `temp_f`: Normally 68.0–77.0°F, but 80.6–89.6°F for `SENSOR_003` every 5th iteration to simulate high temperatures.\n    - `co2_ppm`: Normally 600–1000 ppm, but 1000–1600 ppm for `SENSOR_002` every 5th iteration to simulate poor air quality.\n    - `zone`: Maps to `sensor_id` (e.g., `SENSOR_001` → `West Concourse`).\n  - `ingestion_time`: `event_ts + 1 second`.\n- **Logic**: Simulates environmental sensor readings, with occasional spikes in temperature or CO2 to trigger maintenance alerts.\n\n##### e. **Clean Request Events**\n- **Fields**:\n  - `event_id`: `EVT_CLEAN_{iteration}_<sequence>`.\n  - `event_type`: `'clean_req'`.\n  - `event_ts`: Random within 10 seconds.\n  - `stand_id`, `sensor_id`: `NULL`.\n  - `payload`:\n    - `zone`: Randomly one of five zones (`West Concourse`, `East Concourse`, etc.).\n    - `severity`: Randomly `warning` or `critical`.\n    - `description`: Randomly `Spill reported near seating area` or `Restroom maintenance needed`.\n  - `ingestion_time`: `event_ts + 1 second`.\n- **Logic**: Simulates cleaning requests across the stadium, with varying urgency and location.\n\n#### 4. **Execution Flow**\n1. Retrieves the max `event_ts` and current `iteration`.\n2. Calculates the `start_ts` for the current iteration.\n3. Generates random row counts for each event type.\n4. Constructs and executes the `INSERT` SQL statement.\n5. Updates `ITERATION_TRACKER` with the new iteration and timestamp.\n6. Returns a success message with the total rows inserted.\n\n#### 5. **Key Features**\n- **Temporal Progression**: Events are timestamped to simulate real-time activity, advancing by 10 seconds per iteration.\n- **Randomization**: Varies row counts, timestamps, quantities, and metrics to mimic realistic fluctuations.\n- **Conditional Logic**: Introduces spikes (e.g., low inventory, long queues, high temperature) periodically to simulate actionable scenarios.\n- **Modularity**: Each event type is generated independently, allowing easy customization.\n- **Scalability**: Uses Snowflake’s `GENERATOR` function for efficient row creation.\n\n#### 6. **Use Case**\nThis procedure is designed for a demonstration simulating stadium operations, generating data for:\n- Sales tracking (e.g., food and merchandise purchases).\n- Inventory management (e.g., stock levels).\n- Queue monitoring (e.g., wait times).\n- Environmental conditions (e.g., temperature, air quality).\n- Facility maintenance (e.g., cleaning requests).\nThe synthetic data supports testing downstream analytics, such as dynamic tables (`DT_CLEAN_EVENTS`, `DT_INVENTORY_STATUS`) for real-time insights.\n\n#### 7. **Potential Enhancements**\n- **Correlation**: Link sale and inventory events to reflect stock depletion (e.g., sales reduce `units_remaining`).\n- **Event Dependencies**: Make queue lengths depend on sale volume or cleaning requests depend on environmental data.\n- **Configurability**: Allow parameters for row counts, time windows, or spike frequencies.\n- **Error Handling**: Add validation for `start_ts` or row counts to prevent overlaps or excessive data.\n\nThis procedure effectively generates diverse, realistic synthetic data for a stadium simulation, with built-in variability to demonstrate dynamic operational scenarios."
  },
  {
   "cell_type": "code",
   "id": "70badee3-2fb6-4506-9aae-0c21dbb0e01e",
   "metadata": {
    "language": "sql",
    "name": "SP_INSERT_RAW_EVENTS"
   },
   "outputs": [],
   "source": "-- Create a table to store the iteration count\nCREATE TABLE IF NOT EXISTS ITERATION_TRACKER (\n    iteration INT,\n    last_updated TIMESTAMP_NTZ\n);\n\n-- Initialize the iteration count\nINSERT INTO ITERATION_TRACKER (iteration, last_updated)\nVALUES (0, CURRENT_TIMESTAMP());\n\n-- Stored procedure for a single iteration\nCREATE OR REPLACE PROCEDURE INSERT_ARENA_EVENTS_SINGLE()\nRETURNS STRING\nLANGUAGE PYTHON\nRUNTIME_VERSION = '3.11'\nPACKAGES = ('snowflake-snowpark-python')\nHANDLER = 'main'\nAS\n$$\nfrom snowflake.snowpark.functions import col\nfrom snowflake.snowpark.types import StringType\nfrom datetime import datetime, timedelta\nimport snowflake.snowpark as snowpark\nimport random\n\ndef main(session):\n    try:\n        max_ts_df = session.sql(\"SELECT MAX(event_ts) AS max_ts FROM RAW_EVENTS\").collect()\n        max_ts = max_ts_df[0]['MAX_TS'] if max_ts_df[0]['MAX_TS'] else datetime.strptime('2025-05-20 12:00:00', '%Y-%m-%d %H:%M:%S')\n    except:\n        max_ts = datetime.strptime('2025-05-20 12:00:00', '%Y-%m-%d %H:%M:%S')\n\n    iteration_df = session.sql(\"SELECT iteration FROM ITERATION_TRACKER\").collect()\n    iteration = iteration_df[0]['ITERATION'] + 1\n\n    start_ts = max_ts + timedelta(seconds=((iteration - 1) * 10))\n\n    sale_rows = random.randint(8, 16)\n    inv_rows = random.randint(6, 8)\n    queue_rows = random.randint(5, 6)\n    env_rows = random.randint(5, 6)\n    clean_rows = random.randint(1, 2)\n    total_rows = sale_rows + inv_rows + queue_rows + env_rows + clean_rows\n\n    insert_sql = f\"\"\"\n    INSERT INTO RAW_EVENTS\n    SELECT\n      event_id,\n      event_type,\n      event_ts,\n      stand_id,\n      sensor_id,\n      payload,\n      ingestion_time\n    FROM (\n      -- Sale events ({sale_rows} rows)\n      SELECT\n        'EVT_SALE_{iteration}_' || SEQ8() AS event_id,\n        'sale' AS event_type,\n        DATEADD(SECOND, UNIFORM(0, 9, RANDOM()), TO_TIMESTAMP_NTZ('{start_ts.strftime('%Y-%m-%d %H:%M:%S')}')) AS event_ts,\n        CASE\n          WHEN SEQ8() % 5 = 0 THEN 'STAND_001'\n          WHEN SEQ8() % 5 = 1 THEN 'STAND_002'\n          WHEN SEQ8() % 5 = 2 THEN 'STAND_003'\n          WHEN SEQ8() % 5 = 3 THEN 'STAND_004'\n          ELSE 'STAND_005'\n        END AS stand_id,\n        NULL AS sensor_id,\n        OBJECT_CONSTRUCT(\n          'sku_id', CASE\n            WHEN stand_id IN ('STAND_001', 'STAND_004') THEN 'SKU_00' || (1 + (SEQ8() % 5))\n            WHEN stand_id IN ('STAND_002', 'STAND_005') THEN 'SKU_00' || (6 + (SEQ8() % 5))\n            ELSE 'SKU_0' || (11 + (SEQ8() % 5))\n          END,\n          'item_name', CASE\n            WHEN stand_id IN ('STAND_001', 'STAND_004') THEN CASE (1 + (SEQ8() % 5))\n                WHEN 1 THEN 'Cheeseburger'\n                WHEN 2 THEN 'Hot Dog'\n                WHEN 3 THEN 'Nachos'\n                WHEN 4 THEN 'Pizza Slice'\n                ELSE 'Fries'\n              END\n            WHEN stand_id IN ('STAND_002', 'STAND_005') THEN CASE (6 + (SEQ8() % 5))\n                WHEN 6 THEN 'Draft Beer 16oz'\n                WHEN 7 THEN 'Soda 20oz'\n                WHEN 8 THEN 'Bottled Water'\n                WHEN 9 THEN 'Iced Tea'\n                ELSE 'Coffee'\n              END\n            ELSE CASE (11 + (SEQ8() % 5))\n                WHEN 11 THEN 'Team Jersey'\n                WHEN 12 THEN 'Cap'\n                WHEN 13 THEN 'T-Shirt'\n                WHEN 14 THEN 'Scarf'\n                ELSE 'Keychain'\n              END\n          END,\n          'vendor_name', CASE stand_id\n            WHEN 'STAND_001' THEN 'Burger Bonanza'\n            WHEN 'STAND_002' THEN 'Thirsty Fan Brews'\n            WHEN 'STAND_003' THEN 'Team Spirit Merch'\n            WHEN 'STAND_004' THEN 'Pizza Pavilion'\n            ELSE 'Sip & Go'\n          END,\n          'units', CASE\n            WHEN {iteration} % 10 = 0 THEN UNIFORM(5, 10, RANDOM())\n            ELSE UNIFORM(1, 5, RANDOM())\n          END,\n          'price', CASE\n            WHEN stand_id IN ('STAND_001', 'STAND_004') THEN CASE (1 + (SEQ8() % 5))\n                WHEN 1 THEN 10.0\n                WHEN 2 THEN 8.0\n                WHEN 3 THEN 7.0\n                WHEN 4 THEN 6.0\n                ELSE 5.0\n              END\n            WHEN stand_id IN ('STAND_002', 'STAND_005') THEN CASE (6 + (SEQ8() % 5))\n                WHEN 6 THEN 8.0\n                WHEN 7 THEN 4.0\n                WHEN 8 THEN 3.0\n                WHEN 9 THEN 4.5\n                ELSE 5.0\n              END\n            ELSE CASE (11 + (SEQ8() % 5))\n                WHEN 11 THEN 50.0\n                WHEN 12 THEN 25.0\n                WHEN 13 THEN 20.0\n                WHEN 14 THEN 15.0\n                ELSE 5.0\n              END\n          END\n        ) AS payload,\n        DATEADD(SECOND, 1, event_ts) AS ingestion_time\n      FROM TABLE(GENERATOR(ROWCOUNT => {sale_rows}))\n      -- Inventory events ({inv_rows} rows)\n      UNION ALL\n      SELECT\n        'EVT_INV_{iteration}_' || SEQ8() AS event_id,\n        'inventory' AS event_type,\n        DATEADD(SECOND, UNIFORM(0, 9, RANDOM()), TO_TIMESTAMP_NTZ('{start_ts.strftime('%Y-%m-%d %H:%M:%S')}')) AS event_ts,\n        CASE\n          WHEN SEQ8() % 5 = 0 THEN 'STAND_001'\n          WHEN SEQ8() % 5 = 1 THEN 'STAND_002'\n          WHEN SEQ8() % 5 = 2 THEN 'STAND_003'\n          WHEN SEQ8() % 5 = 3 THEN 'STAND_004'\n          ELSE 'STAND_005'\n        END AS stand_id,\n        NULL AS sensor_id,\n        OBJECT_CONSTRUCT(\n          'sku_id', CASE\n            WHEN stand_id IN ('STAND_001', 'STAND_004') THEN 'SKU_00' || (1 + (SEQ8() % 5))\n            WHEN stand_id IN ('STAND_002', 'STAND_005') THEN 'SKU_00' || (6 + (SEQ8() % 5))\n            ELSE 'SKU_0' || (11 + (SEQ8() % 5))\n          END,\n          'item_name', CASE\n            WHEN stand_id IN ('STAND_001', 'STAND_004') THEN CASE (1 + (SEQ8() % 5))\n                WHEN 1 THEN 'Cheeseburger'\n                WHEN 2 THEN 'Hot Dog'\n                WHEN 3 THEN 'Nachos'\n                WHEN 4 THEN 'Pizza Slice'\n                ELSE 'Fries'\n              END\n            WHEN stand_id IN ('STAND_002', 'STAND_005') THEN CASE (6 + (SEQ8() % 5))\n                WHEN 6 THEN 'Draft Beer 16oz'\n                WHEN 7 THEN 'Soda 20oz'\n                WHEN 8 THEN 'Bottled Water'\n                WHEN 9 THEN 'Iced Tea'\n                ELSE 'Coffee'\n              END\n            ELSE CASE (11 + (SEQ8() % 5))\n                WHEN 11 THEN 'Team Jersey'\n                WHEN 12 THEN 'Cap'\n                WHEN 13 THEN 'T-Shirt'\n                WHEN 14 THEN 'Scarf'\n                ELSE 'Keychain'\n              END\n          END,\n          'vendor_name', CASE stand_id\n            WHEN 'STAND_001' THEN 'Burger Bonanza'\n            WHEN 'STAND_002' THEN 'Thirsty Fan Brews'\n            WHEN 'STAND_003' THEN 'Team Spirit Merch'\n            WHEN 'STAND_004' THEN 'Pizza Pavilion'\n            ELSE 'Sip & Go'\n          END,\n          'units_remaining', CASE\n            WHEN stand_id = 'STAND_002' AND SEQ8() % 3 = 0 AND {iteration} % 5 = 0 THEN UNIFORM(50, 75, RANDOM()) * 0.01 * CASE (6 + (SEQ8() % 5))\n                WHEN 6 THEN 450\n                WHEN 7 THEN 375\n                WHEN 8 THEN 600\n                WHEN 9 THEN 300\n                ELSE 225\n              END\n            ELSE UNIFORM(75, 100, RANDOM()) * 0.01 * CASE\n                WHEN stand_id IN ('STAND_001', 'STAND_004') THEN CASE (1 + (SEQ8() % 5))\n                    WHEN 1 THEN 150\n                    WHEN 2 THEN 200\n                    WHEN 3 THEN 120\n                    WHEN 4 THEN 180\n                    ELSE 300\n                  END\n                WHEN stand_id IN ('STAND_002', 'STAND_005') THEN CASE (6 + (SEQ8() % 5))\n                    WHEN 6 THEN 450\n                    WHEN 7 THEN 375\n                    WHEN 8 THEN 600\n                    WHEN 9 THEN 300\n                    ELSE 225\n                  END\n                ELSE CASE (11 + (SEQ8() % 5))\n                    WHEN 11 THEN 75\n                    WHEN 12 THEN 110\n                    WHEN 13 THEN 150\n                    WHEN 14 THEN 90\n                    ELSE 300\n                  END\n              END\n          END\n        ) AS payload,\n        DATEADD(SECOND, 1, event_ts) AS ingestion_time\n      FROM TABLE(GENERATOR(ROWCOUNT => {inv_rows}))\n      -- Queue events ({queue_rows} rows)\n      UNION ALL\n      SELECT\n        'EVT_QUEUE_{iteration}_' || SEQ8() AS event_id,\n        'queue' AS event_type,\n        DATEADD(SECOND, UNIFORM(0, 9, RANDOM()), TO_TIMESTAMP_NTZ('{start_ts.strftime('%Y-%m-%d %H:%M:%S')}')) AS event_ts,\n        CASE\n          WHEN SEQ8() % 3 = 0 THEN 'STAND_001'\n          WHEN SEQ8() % 3 = 1 THEN 'STAND_002'\n          ELSE 'STAND_005'\n        END AS stand_id,\n        CASE\n          WHEN stand_id = 'STAND_001' THEN 'SENSOR_001'\n          WHEN stand_id = 'STAND_002' THEN 'SENSOR_002'\n          ELSE 'SENSOR_005'\n        END AS sensor_id,\n        OBJECT_CONSTRUCT(\n          'queue_len', CASE\n            WHEN stand_id = 'STAND_001' AND {iteration} % 5 = 0 THEN UNIFORM(20, 30, RANDOM())\n            ELSE UNIFORM(5, 15, RANDOM())\n          END\n        ) AS payload,\n        DATEADD(SECOND, 1, event_ts) AS ingestion_time\n      FROM TABLE(GENERATOR(ROWCOUNT => {queue_rows}))\n      -- Environmental events ({env_rows} rows)\n      UNION ALL\n      SELECT\n        'EVT_ENV_{iteration}_' || SEQ8() AS event_id,\n        'env' AS event_type,\n        DATEADD(SECOND, UNIFORM(0, 9, RANDOM()), TO_TIMESTAMP_NTZ('{start_ts.strftime('%Y-%m-%d %H:%M:%S')}')) AS event_ts,\n        NULL AS stand_id,\n        CASE\n          WHEN SEQ8() % 5 = 0 THEN 'SENSOR_001'\n          WHEN SEQ8() % 5 = 1 THEN 'SENSOR_002'\n          WHEN SEQ8() % 5 = 2 THEN 'SENSOR_003'\n          WHEN SEQ8() % 5 = 3 THEN 'SENSOR_004'\n          ELSE 'SENSOR_005'\n        END AS sensor_id,\n        OBJECT_CONSTRUCT(\n          'temp_f', CASE\n            WHEN sensor_id = 'SENSOR_003' AND {iteration} % 5 = 0 THEN ROUND(UNIFORM(80.6, 89.6, RANDOM()), 1)\n            ELSE ROUND(UNIFORM(68.0, 77.0, RANDOM()), 1)\n          END,\n          'co2_ppm', CASE\n            WHEN sensor_id = 'SENSOR_002' AND {iteration} % 5 = 0 THEN UNIFORM(1000, 1600, RANDOM())\n            ELSE UNIFORM(600, 1000, RANDOM())\n          END,\n          'zone', CASE\n            WHEN sensor_id = 'SENSOR_001' THEN 'West Concourse'\n            WHEN sensor_id = 'SENSOR_002' THEN 'East Concourse'\n            WHEN sensor_id = 'SENSOR_003' THEN 'Lower Bowl A'\n            WHEN sensor_id = 'SENSOR_004' THEN 'Club Seats North'\n            ELSE 'Upper Deck South'\n          END\n        ) AS payload,\n        DATEADD(SECOND, 1, event_ts) AS ingestion_time\n      FROM TABLE(GENERATOR(ROWCOUNT => {env_rows}))\n      -- Clean request events ({clean_rows} rows)\n      UNION ALL\n      SELECT\n        'EVT_CLEAN_{iteration}_' || SEQ8() AS event_id,\n        'clean_req' AS event_type,\n        DATEADD(SECOND, UNIFORM(0, 9, RANDOM()), TO_TIMESTAMP_NTZ('{start_ts.strftime('%Y-%m-%d %H:%M:%S')}')) AS event_ts,\n        NULL AS stand_id,\n        NULL AS sensor_id,\n        OBJECT_CONSTRUCT(\n          'zone', CASE\n            WHEN SEQ8() % 5 = 0 THEN 'West Concourse'\n            WHEN SEQ8() % 5 = 1 THEN 'East Concourse'\n            WHEN SEQ8() % 5 = 2 THEN 'Lower Bowl A'\n            WHEN SEQ8() % 5 = 3 THEN 'Club Seats North'\n            ELSE 'Upper Deck South'\n          END,\n          'severity', CASE\n            WHEN SEQ8() % 2 = 0 THEN 'warning'\n            ELSE 'critical'\n          END,\n          'description', CASE\n            WHEN SEQ8() % 2 = 0 THEN 'Spill reported near seating area'\n            ELSE 'Restroom maintenance needed'\n          END\n        ) AS payload,\n        DATEADD(SECOND, 1, event_ts) AS ingestion_time\n      FROM TABLE(GENERATOR(ROWCOUNT => {clean_rows}))\n    )\n    \"\"\"\n\n    session.sql(insert_sql).collect()\n    session.sql(f\"UPDATE iteration_tracker SET iteration = {iteration}, last_updated = CURRENT_TIMESTAMP()\").collect()\n\n    return f\"Inserted {total_rows} rows for iteration {iteration}\"\n$$;",
   "execution_count": null
  },
  {
   "cell_type": "markdown",
   "id": "d1168b4d-db6e-441d-9b50-46d36d7afdd3",
   "metadata": {
    "name": "INTRO_DYNAMIC_TABLES",
    "collapsed": false
   },
   "source": "### 8. Introducing Dynamic Tables\n\n**Objective**: Understand Dynamic Tables and their power in real-time data pipelines.\n\n**What Are They?**: Snowflake’s Dynamic Tables use SQL to:\n- Auto-refresh on upstream changes.\n- Process with low latency (e.g., 1-min lag).\n- Manage dependencies effortlessly.\n- Scale with Snowflake’s cloud.\n\nIn ArenaFlow, they turn raw events into clean, aggregated KPIs for a live dashboard, handling:\n- Cleaning raw data.\n- Minute-by-minute sales, inventory, and queue metrics.\n- Actionable alerts.\n\n**Parameters**:\n- **TARGET_LAG**: Max delay (e.g., seconds, ‘DOWNSTREAM’ for sync).\n- **WAREHOUSE**: Compute resource for refreshes.\n- **REFRESH_MODE**: AUTO, FULL, or INCREMENTAL.\n- **INITIALIZE**: ON_CREATE or ON_SCHEDULE.\n- **COMMENT**: Add notes for clarity.\n- **CLUSTER BY**: Boosts query speed.\n- **DATA_RETENTION**: Time travel duration.\n- **ROW ACCESS POLICY**: Secures data access.\n\n**Value**: Simplifies streaming, delivering fast insights. Spot a 20-person queue in <1 min, dispatch staff, and boost sales—1% better queues can add thousands per game.\n\n**Next**: Build the first Dynamic Table for cleaning."
  },
  {
   "cell_type": "markdown",
   "id": "9a98272d-ea54-420e-a9d9-236653667d30",
   "metadata": {
    "name": "INTRO_DT_CLEAN_EVENTS",
    "collapsed": false
   },
   "source": "### 9. Dynamic Table: DT_CLEAN_EVENTS\n\n**Objective**: Normalize raw JSON into structured, query-ready rows.\n\n**Purpose**: This staging table parses `RAW_EVENTS` payloads, buckets by `minute_ts`, and validates fields for consistency.\n\n**Depends On**: `RAW_EVENTS`\n\n**Key Outputs**:\n- `event_id`, `event_type`, `minute_ts`, `event_ts`, `stand_id`, `sensor_id`\n- `is_valid`: Checks required fields per event type.\n- Parsed: `sku_id`, `units`, `price`, `queue_len`, `temp_f`, `co2_ppm`, `units_remaining`, `zone`, `severity`, `description`\n\n**Value**: Ensures reliable, structured data for all downstream metrics—sales, inventory, queues, and alerts—enabling accurate, fast analysis.\n\n**Role**: Foundation for all operational tables in the pipeline.\n\n**Next**: Verify and explore sales metrics."
  },
  {
   "cell_type": "code",
   "id": "a565f3fb-b7d7-400d-8c93-2258571b6e36",
   "metadata": {
    "language": "sql",
    "name": "DT_CLEAN_EVENTS"
   },
   "outputs": [],
   "source": "CREATE OR REPLACE DYNAMIC TABLE DT_CLEAN_EVENTS\nLAG = '1 minute'\nWAREHOUSE = 'DEV_WH_ARENAFLOW_HOLS'\nAS\nSELECT\n    event_id,\n    event_type,\n    DATE_TRUNC('MINUTE', event_ts) AS minute_ts,\n    event_ts,\n    stand_id,\n    sensor_id,\n    CASE\n        WHEN event_type = 'sale' AND payload:sku_id IS NOT NULL AND payload:units IS NOT NULL AND payload:price IS NOT NULL THEN TRUE\n        WHEN event_type = 'inventory' AND payload:sku_id IS NOT NULL AND payload:units_remaining IS NOT NULL THEN TRUE\n        WHEN event_type = 'queue' AND payload:queue_len IS NOT NULL THEN TRUE\n        WHEN event_type = 'env' AND payload:zone IS NOT NULL AND (payload:temp_f IS NOT NULL OR payload:co2_ppm IS NOT NULL) THEN TRUE\n        WHEN event_type = 'clean_req' AND payload:zone IS NOT NULL AND payload:severity IS NOT NULL THEN TRUE\n        ELSE FALSE\n    END AS is_valid,\n    payload:sku_id::STRING AS sku_id,\n    payload:item_name::STRING AS item_name,\n    payload:vendor_name::STRING AS vendor_name,\n    payload:units::INTEGER AS units,\n    payload:price::FLOAT AS price,\n    payload:queue_len::INTEGER AS queue_len,\n    payload:temp_f::FLOAT AS temp_f,\n    payload:co2_ppm::FLOAT AS co2_ppm,\n    payload:units_remaining::INTEGER AS units_remaining,\n    payload:zone::STRING AS zone,\n    payload:severity::STRING AS severity,\n    payload:description::STRING AS description,\n    ingestion_time\nFROM RAW_EVENTS\nWHERE payload IS NOT NULL;",
   "execution_count": null
  },
  {
   "cell_type": "code",
   "id": "f268fd59-fdbe-4948-aa33-e82909ba1801",
   "metadata": {
    "language": "sql",
    "name": "SHOW_DTS_1"
   },
   "outputs": [],
   "source": "SHOW DYNAMIC TABLES IN SCHEMA DYNAMIC_TABLES;",
   "execution_count": null
  },
  {
   "cell_type": "code",
   "id": "29162b41-b0b6-4005-a243-9cc440bd3b39",
   "metadata": {
    "language": "sql",
    "name": "QA_DT_CLEAN_EVENTS"
   },
   "outputs": [],
   "source": "-- QA\nSELECT *\nFROM DT_CLEAN_EVENTS;",
   "execution_count": null
  },
  {
   "cell_type": "markdown",
   "id": "7c23b4f5-7686-4746-8d89-904d4624fe28",
   "metadata": {
    "name": "INTRO_DT_SALES_MINUTE",
    "collapsed": false
   },
   "source": "### 10. Dynamic Table: DT_SALES_MINUTE & DT_SALES_AGG\n**Place above cells: \"DT_SALES_MINUTE_1\" (id: d526db6c-1b17-4067-ac96-bd74a0996a79) through \"QA_DT_SALES_MINUTE_2\" (id: 95d605bc-5527-4c2f-af70-cd0b922dc341)**\n\n**Objective**: Track real-time sales activity per stand.\n\n**Purpose**:\n- **DT_SALES_AGG**: Aggregates valid sales from `DT_CLEAN_EVENTS` by minute and stand, calculating revenue and units sold.\n- **DT_SALES_MINUTE**: Enriches aggregates with stand details, identifying top-selling SKUs, items, and vendors.\n\n**Depends On**:\n- `DT_CLEAN_EVENTS`\n- `Stand Directory`\n\n**Key Outputs**:\n- `minute_ts`, `stand_id`, `category`, `vendor_name`\n- `revenue` (FLOAT), `units_sold` (INTEGER)\n- `top_sku`, `top_item_name`, `top_vendor_name`\n\n**Value**: Reveals sales trends and hot products minute-by-minute, guiding staff to high-demand areas and boosting revenue.\n\n**Role**: Feeds the Arena Dashboard and tracks inventory depletion.\n\n**Next**: Monitor inventory levels."
  },
  {
   "cell_type": "code",
   "id": "d526db6c-1b17-4067-ac96-bd74a0996a79",
   "metadata": {
    "language": "sql",
    "name": "DT_SALES_MINUTE_1"
   },
   "outputs": [],
   "source": "CREATE OR REPLACE DYNAMIC TABLE DT_SALES_MINUTE\nLAG = '70 Seconds'\nREFRESH_MODE = 'INCREMENTAL'\nWAREHOUSE = 'DEV_WH_ARENAFLOW_HOLS'\nAS\nWITH sales_agg AS (\n    SELECT\n        minute_ts,\n        stand_id,\n        SUM(units * price) AS revenue,\n        SUM(units) AS units_sold,\n        MAX_BY(sku_id, units) AS top_sku,\n        MAX_BY(item_name, units) AS top_item_name,\n        MAX_BY(vendor_name, units) AS top_vendor_name\n    FROM dt_clean_events\n    WHERE event_type = 'sale' AND is_valid = TRUE\n    GROUP BY minute_ts, stand_id\n)\nSELECT\n    s.minute_ts,\n    s.stand_id,\n    d.category,\n    d.location AS vendor_name,\n    s.revenue,\n    s.units_sold,\n    s.top_sku,\n    s.top_item_name,\n    s.top_vendor_name\nFROM sales_agg s\nJOIN stand_directory d ON s.stand_id = d.stand_id;",
   "execution_count": null
  },
  {
   "cell_type": "code",
   "id": "7b9b85c3-c256-4986-96bc-8159a3fb04b0",
   "metadata": {
    "language": "sql",
    "name": "DT_SALES_AGG"
   },
   "outputs": [],
   "source": "CREATE OR REPLACE DYNAMIC TABLE DT_SALES_AGG\nLAG = 'DOWNSTREAM'\nREFRESH_MODE = 'INCREMENTAL'\nWAREHOUSE = 'DEV_WH_ARENAFLOW_HOLS'\nAS\nSELECT\n    minute_ts,\n    stand_id,\n    SUM(units * price) AS revenue,\n    SUM(units) AS units_sold\nFROM dt_clean_events\nWHERE event_type = 'sale' AND is_valid = TRUE\nGROUP BY minute_ts, stand_id;",
   "execution_count": null
  },
  {
   "cell_type": "code",
   "id": "adb69927-add2-4efb-ac47-d690c563e5f6",
   "metadata": {
    "language": "sql",
    "name": "SHOW_DT_2"
   },
   "outputs": [],
   "source": "SHOW DYNAMIC TABLES IN SCHEMA DYNAMIC_TABLES;",
   "execution_count": null
  },
  {
   "cell_type": "code",
   "id": "c2fda50e-fc12-40f8-8510-7c732efbd9c0",
   "metadata": {
    "language": "sql",
    "name": "QA_DT_SALES_AGG"
   },
   "outputs": [],
   "source": "SELECT *\nFROM DT_SALES_AGG\nORDER BY 1;",
   "execution_count": null
  },
  {
   "cell_type": "code",
   "id": "f51fcdd4-e19c-432b-9bab-d21b5fc7a9b7",
   "metadata": {
    "language": "sql",
    "name": "DT_SALES_MINUTE_2"
   },
   "outputs": [],
   "source": "CREATE OR REPLACE DYNAMIC TABLE DT_SALES_MINUTE\nLAG = '70 Seconds'\nREFRESH_MODE = 'INCREMENTAL'\nWAREHOUSE = 'DEV_WH_ARENAFLOW_HOLS'\nAS\nSELECT\n    agg.minute_ts,\n    agg.stand_id,\n    d.category,\n    d.location AS vendor_name,\n    agg.revenue,\n    agg.units_sold,\n    r.top_sku,\n    r.top_item_name,\n    r.top_vendor_name\nFROM DT_SALES_AGG AS agg\nJOIN stand_directory d ON agg.stand_id = d.stand_id\nJOIN (\n    SELECT \n        minute_ts,\n        stand_id,\n        sku_id AS top_sku,\n        item_name AS top_item_name,\n        vendor_name AS top_vendor_name,\n        ROW_NUMBER() OVER (PARTITION BY minute_ts, stand_id ORDER BY units DESC) AS rn\n    FROM dt_clean_events\n    WHERE event_type = 'sale' AND is_valid = TRUE\n) AS r ON agg.minute_ts = r.minute_ts AND agg.stand_id = r.stand_id\nWHERE r.rn = 1;",
   "execution_count": null
  },
  {
   "cell_type": "code",
   "id": "95d605bc-5527-4c2f-af70-cd0b922dc341",
   "metadata": {
    "language": "sql",
    "name": "QA_DT_SALES_MINUTE_2"
   },
   "outputs": [],
   "source": "SELECT *\nFROM DT_SALES_MINUTE\nORDER BY 1;",
   "execution_count": null
  },
  {
   "cell_type": "markdown",
   "id": "7a9309d7-f60b-4c7c-bcb8-8054eae4d1ca",
   "metadata": {
    "name": "INTRO_DT_INVENTORY_STATUS",
    "collapsed": false
   },
   "source": "### 11. Dynamic Table: DT_INVENTORY_STATUS\n\n**Objective**: Monitor stock levels and flag low inventory.\n\n**Purpose**: Processes sensor data to track remaining units per SKU and stand, calculating stock percentage against par levels.\n\n**Depends On**:\n- `DT_CLEAN_EVENTS`\n- `Product Catalog`\n\n**Key Outputs**:\n- `minute_ts`, `stand_id`, `sku_id`, `item_name`, `vendor_name`\n- `units_remaining` (INTEGER)\n- `stock_pct` (FLOAT)\n\n**Value**: Spots low stock early, enabling restocking before fans miss out, protecting sales and satisfaction.\n\n**Role**: Drives the Ops Alerts system for stock-out warnings."
  },
  {
   "cell_type": "code",
   "id": "d1026f79-45cf-49dc-928f-7d1b3a5b0bab",
   "metadata": {
    "language": "sql",
    "name": "DT_INVENTORY_STATUS"
   },
   "outputs": [],
   "source": "CREATE OR REPLACE DYNAMIC TABLE DT_INVENTORY_STATUS\nLAG = '70 Seconds'\nREFRESH_MODE = 'INCREMENTAL'\nWAREHOUSE = 'DEV_WH_ARENAFLOW_HOLS'\nCLUSTER BY (vendor_name)\nAS\nWITH RankedInventory AS (\n    SELECT\n        e.minute_ts,\n        e.stand_id,\n        e.sku_id,\n        e.item_name,\n        e.vendor_name,\n        e.units_remaining,\n        ROW_NUMBER() OVER (\n            PARTITION BY e.minute_ts, e.stand_id, e.sku_id, e.item_name, e.vendor_name\n            ORDER BY e.event_ts DESC, e.ingestion_time DESC\n        ) AS rn\n    FROM DT_CLEAN_EVENTS e\n    JOIN PRODUCT_CATALOG p ON e.sku_id = p.sku_id\n    WHERE e.event_type = 'inventory' \n      AND e.is_valid = TRUE\n)\nSELECT\n    minute_ts,\n    stand_id,\n    sku_id,\n    item_name,\n    vendor_name,\n    units_remaining,\n    (units_remaining / CASE sku_id\n        WHEN 'SKU_001' THEN 150\n        WHEN 'SKU_002' THEN 200\n        WHEN 'SKU_003' THEN 120\n        WHEN 'SKU_004' THEN 180\n        WHEN 'SKU_005' THEN 300\n        WHEN 'SKU_006' THEN 450\n        WHEN 'SKU_007' THEN 375\n        WHEN 'SKU_008' THEN 600\n        WHEN 'SKU_009' THEN 300\n        WHEN 'SKU_010' THEN 225\n        WHEN 'SKU_011' THEN 75\n        WHEN 'SKU_012' THEN 110\n        WHEN 'SKU_013' THEN 150\n        WHEN 'SKU_014' THEN 90\n        WHEN 'SKU_015' THEN 300\n    END) AS stock_pct\nFROM RankedInventory\nWHERE rn = 1\n  AND units_remaining IS NOT NULL;",
   "execution_count": null
  },
  {
   "cell_type": "code",
   "id": "f85d12ef-8a8e-4d1f-b6c5-a4b49eb17598",
   "metadata": {
    "language": "sql",
    "name": "SHOW_DT_3"
   },
   "outputs": [],
   "source": "SHOW DYNAMIC TABLES IN SCHEMA DYNAMIC_TABLES;",
   "execution_count": null
  },
  {
   "cell_type": "code",
   "id": "23793b92-bf10-4b16-8938-5919ef8de82e",
   "metadata": {
    "language": "sql",
    "name": "QA_INVENTORY_STATUS"
   },
   "outputs": [],
   "source": "-- QA\nSELECT *\nFROM DT_INVENTORY_STATUS\nORDER BY 1;",
   "execution_count": null
  },
  {
   "cell_type": "markdown",
   "id": "941a32b0-225a-4dce-89e4-5ce515562cc6",
   "metadata": {
    "name": "INTRO_DT_QUEUE_METRICS",
    "collapsed": false
   },
   "source": "### 12. Dynamic Table: DT_QUEUE_METRICS\n\n**Objective**: Measure queue lengths and trends at stands.\n\n**Purpose**: Uses camera and sensor data to average queue lengths per minute and track 5-minute trends for early congestion detection.\n\n**Depends On**:\n- `DT_CLEAN_EVENTS`\n- `Stand Directory`\n\n**Key Outputs**:\n- `minute_ts`, `stand_id`, `category`, `vendor_name`\n- `queue_len` (INTEGER)\n- `trend_5min` (FLOAT)\n\n**Value**: Identifies long lines fast, allowing staff redeployment to cut wait times and lift concession throughput.\n\n**Role**: Fuels the alerting system for line warnings.\n\n**Next**: Track environmental comfort."
  },
  {
   "cell_type": "code",
   "id": "dba1612a-395b-4f50-8d6a-2d28bc84e5f1",
   "metadata": {
    "language": "sql",
    "name": "DT_QUEUE_METRICS"
   },
   "outputs": [],
   "source": "CREATE OR REPLACE DYNAMIC TABLE DT_QUEUE_METRICS\nLAG = '70 Seconds'\nWAREHOUSE = 'DEV_WH_ARENAFLOW_HOLS'\nREFRESH_MODE = 'INCREMENTAL'\nAS\nWITH queue_data AS (\n    SELECT\n        minute_ts,\n        stand_id,\n        AVG(queue_len) AS queue_len\n    FROM dt_clean_events\n    WHERE event_type = 'queue' AND is_valid = TRUE\n    GROUP BY minute_ts, stand_id\n),\ntrend_calc AS (\n    SELECT\n        q.minute_ts,\n        q.stand_id,\n        q.queue_len,\n        (q.queue_len - LAG(q.queue_len, 5) OVER (PARTITION BY q.stand_id ORDER BY q.minute_ts)) / 5.0 AS trend_5min\n    FROM queue_data q\n)\nSELECT\n    t.minute_ts,\n    t.stand_id,\n    d.category,\n    d.location AS vendor_name,\n    t.queue_len,\n    t.trend_5min\nFROM trend_calc t\nJOIN stand_directory d ON t.stand_id = d.stand_id;",
   "execution_count": null
  },
  {
   "cell_type": "code",
   "id": "17719bcc-1242-465c-9257-153cf9cb3dc3",
   "metadata": {
    "language": "sql",
    "name": "QA_QUEUE_METRICS"
   },
   "outputs": [],
   "source": "-- QA\nSELECT *\nFROM DT_QUEUE_METRICS\nORDER BY 1;",
   "execution_count": null
  },
  {
   "cell_type": "markdown",
   "id": "fed7d25a-be10-4810-af35-4a5af65cc545",
   "metadata": {
    "name": "INTRO_DT_ENV_COMFORT",
    "collapsed": false
   },
   "source": "### 13. Dynamic Table: DT_ENV_COMFORT\n\n**Objective**: Monitor temperature and air quality for fan comfort.\n\n**Purpose**: Aggregates sensor data to summarize average temperature and max CO2 levels per zone, minute-by-minute.\n\n**Depends On**:\n- `DT_CLEAN_EVENTS`\n- `Sensor Map`\n\n**Key Outputs**:\n- `minute_ts`, `zone`\n- `avg_temp_f` (FLOAT)\n- `max_co2_ppm` (FLOAT)\n\n**Value**: Ensures a comfortable fan experience by flagging hot or stuffy zones for HVAC adjustments.\n\n**Role**: Feeds Ops Alerts for environmental fixes.\n\n**Next**: Consolidate alerts for action."
  },
  {
   "cell_type": "code",
   "id": "abb304e1-d777-453e-98ca-71c3e9bf4f7c",
   "metadata": {
    "language": "sql",
    "name": "DT_ENV_COMFORT"
   },
   "outputs": [],
   "source": "CREATE OR REPLACE DYNAMIC TABLE DT_ENV_COMFORT\nLAG = '70 Seconds'\nWAREHOUSE = 'DEV_WH_ARENAFLOW_HOLS'\nREFRESH_MODE = 'INCREMENTAL'\nAS\nSELECT\n    e.minute_ts,\n    e.zone,\n    AVG(e.temp_f) AS avg_temp_f,\n    MAX(e.co2_ppm) AS max_co2_ppm\nFROM dt_clean_events e\nJOIN sensor_map s ON e.sensor_id = s.sensor_id\nWHERE e.event_type = 'env' AND e.is_valid = TRUE\nGROUP BY e.minute_ts, e.zone\nHAVING avg_temp_f IS NOT NULL OR max_co2_ppm IS NOT NULL;",
   "execution_count": null
  },
  {
   "cell_type": "code",
   "id": "a27b8934-23a6-4195-81fb-6a5d3ff782ec",
   "metadata": {
    "language": "sql",
    "name": "QA_DT_ENV_COMFORT"
   },
   "outputs": [],
   "source": "-- QA\nSELECT *\nFROM DT_ENV_COMFORT\nORDER BY 1",
   "execution_count": null
  },
  {
   "cell_type": "markdown",
   "id": "11df6827-10f5-4e72-b1e2-054f28d28523",
   "metadata": {
    "name": "INTRO_DT_OPS_ALERTS",
    "collapsed": false
   },
   "source": "### 14. Dynamic Table: DT_OPS_ALERTS\n\n**Objective**: Aggregate actionable alerts for staff.\n\n**Purpose**: Combines thresholds from `Maintenance Thresholds` to flag:\n- **Low Stock**: `stock_pct` below limits.\n- **Long Lines**: `queue_len` or trend exceeds bounds.\n- **Environmental Issues**: High temp or CO2 levels.\n\n**Depends On**:\n- `DT_INVENTORY_STATUS`\n- `DT_QUEUE_METRICS`\n- `DT_ENV_COMFORT`\n- `Maintenance Thresholds`\n\n**Key Outputs**:\n- `alert_id`, `alert_ts`, `stand_or_zone`\n- `metric_type`, `current_value`, `severity`\n- `status` (open/closed), `action_required`\n\n**Value**: Prioritizes urgent issues—restocking, staff adds, HVAC tweaks—for fast resolution, keeping operations smooth.\n\n**Role**: Delivers a clear action list for staff.\n\n**Next**: Build the dashboard view."
  },
  {
   "cell_type": "code",
   "id": "e55ee2bb-b2d0-44cd-8ea6-564863407725",
   "metadata": {
    "language": "sql",
    "name": "DT_OPS_ALERTS"
   },
   "outputs": [],
   "source": "CREATE OR REPLACE DYNAMIC TABLE DT_OPS_ALERTS\nLAG = '70 Seconds'\nWAREHOUSE = 'DEV_WH_ARENAFLOW_HOLS'\nREFRESH_MODE = 'INCREMENTAL'\nAS\nWITH stock_alerts AS (\n    SELECT\n        minute_ts AS alert_ts,\n        CONCAT('ALERT_STOCK_', stand_id, '_', sku_id, '_', minute_ts) AS alert_id,\n        stand_id AS stand_or_zone,\n        'stock_pct' AS metric_type,\n        stock_pct AS current_value,\n        m.severity,\n        CASE\n            WHEN ABS(MOD(HASH(alert_id), 3)) = 0 THEN 'closed'\n            ELSE 'open'\n        END AS status,\n        'Restock ' || item_name || ' at ' || vendor_name AS action_required\n    FROM dt_inventory_status i\n    JOIN maintenance_thresholds m ON m.metric_type = 'stock_pct' AND i.stock_pct <= m.threshold_value\n),\nqueue_alerts AS (\n    SELECT\n        minute_ts AS alert_ts,\n        CONCAT('ALERT_QUEUE_', stand_id, '_', minute_ts) AS alert_id,\n        stand_id AS stand_or_zone,\n        'queue_len' AS metric_type,\n        queue_len AS current_value,\n        m.severity,\n        CASE\n            WHEN ABS(MOD(HASH(alert_id), 3)) = 0 THEN 'closed'\n            ELSE 'open'\n        END AS status,\n        'Add staff to ' || vendor_name || ' to reduce queue' AS action_required\n    FROM dt_queue_metrics q\n    JOIN maintenance_thresholds m ON m.metric_type = 'queue_len' AND q.queue_len >= m.threshold_value\n),\nenv_alerts AS (\n    SELECT\n        minute_ts AS alert_ts,\n        CONCAT('ALERT_ENV_', zone, '_', e.metric_type, '_', minute_ts) AS alert_id,\n        zone AS stand_or_zone,\n        e.metric_type,\n        current_value,\n        m.severity,\n        CASE\n            WHEN ABS(MOD(HASH(alert_id), 3)) = 0 THEN 'closed'\n            ELSE 'open'\n        END AS status,\n        CASE e.metric_type\n            WHEN 'temp_f' THEN 'Adjust HVAC in ' || zone\n            WHEN 'co2_ppm' THEN 'Increase ventilation in ' || zone\n        END AS action_required\n    FROM (\n        SELECT\n            minute_ts,\n            zone,\n            'temp_f' AS metric_type,\n            avg_temp_f AS current_value\n        FROM dt_env_comfort\n        UNION ALL\n        SELECT\n            minute_ts,\n            zone,\n            'co2_ppm' AS metric_type,\n            max_co2_ppm AS current_value\n        FROM dt_env_comfort\n    ) e\n    JOIN maintenance_thresholds m ON e.metric_type = m.metric_type AND e.current_value >= m.threshold_value\n)\nSELECT * FROM stock_alerts\nUNION ALL\nSELECT * FROM queue_alerts\nUNION ALL\nSELECT * FROM env_alerts;",
   "execution_count": null
  },
  {
   "cell_type": "code",
   "id": "dc55ffb9-17f2-406b-b377-bc6e06d95036",
   "metadata": {
    "language": "sql",
    "name": "QA_DT_OPS_ALERTS"
   },
   "outputs": [],
   "source": "-- QA\nSELECT *\nFROM DT_OPS_ALERTS\nORDER BY 1;",
   "execution_count": null
  },
  {
   "cell_type": "markdown",
   "id": "fb6f1822-c829-4dfe-80cd-ef27dfe135ca",
   "metadata": {
    "name": "INTRO_DT_ARENA_DASH",
    "collapsed": false
   },
   "source": "### 15. Dynamic Table: DT_ARENA_DASHBOARD\n\n**Objective**: Unify real-time KPIs for arena oversight.\n\n**Purpose**: Combines sales, queues, alerts, and comfort metrics into a single view for managers, highlighting key trends and issues.\n\n**Depends On**:\n- `DT_SALES_MINUTE`\n- `DT_OPS_ALERTS`\n- `DT_QUEUE_METRICS`\n- `DT_ENV_COMFORT`\n- `DT_INVENTORY_STATUS`\n\n**Key Outputs**:\n- `minute_ts`\n- `total_units_sold`, `total_revenue`\n- `avg_queue_len`, `open_alerts`\n- `hottest_zone`, `worst_stockout`\n\n**Value**: Powers a command center view, driving fast decisions to optimize sales, reduce waits, and enhance comfort—potentially adding thousands in revenue.\n\n**Role**: Final hub for BI tools, signage, and tablet dashboards.\n\n**Next**: Simulate ongoing data and test."
  },
  {
   "cell_type": "code",
   "id": "7f7a6ddd-609e-4fa0-900f-bc480ac0c1db",
   "metadata": {
    "language": "sql",
    "name": "DT_AREAN_DASHBOARD"
   },
   "outputs": [],
   "source": "CREATE OR REPLACE DYNAMIC TABLE DT_ARENA_DASHBOARD\nLAG = '90 Seconds'\nWAREHOUSE = 'DEV_WH_ARENAFLOW_HOLS'\nAS\nWITH sales_summary AS (\n    SELECT\n        minute_ts,\n        SUM(units_sold) AS total_units_sold,\n        SUM(revenue) AS total_revenue\n    FROM dt_sales_minute\n    GROUP BY minute_ts\n),\nqueue_summary AS (\n    SELECT\n        minute_ts,\n        AVG(queue_len) AS avg_queue_len\n    FROM dt_queue_metrics\n    GROUP BY minute_ts\n),\nalert_summary AS (\n    SELECT\n        alert_ts AS minute_ts,\n        COUNT(*) AS open_alerts\n    FROM dt_ops_alerts\n    WHERE status = 'open'\n    GROUP BY alert_ts\n),\nhottest_zone AS (\n    SELECT\n        minute_ts,\n        MAX_BY(zone, avg_temp_f) AS hottest_zone\n    FROM dt_env_comfort\n    GROUP BY minute_ts\n),\nworst_stockout AS (\n    SELECT\n        minute_ts,\n        MIN_BY(CONCAT(vendor_name, ' (', item_name, ') | ', ROUND(stock_pct * 100, 1), '%'), stock_pct) AS worst_stockout\n    FROM dt_inventory_status\n    GROUP BY minute_ts\n)\nSELECT\n    COALESCE(s.minute_ts, q.minute_ts, a.minute_ts, h.minute_ts, w.minute_ts) AS minute_ts,\n    s.total_units_sold,\n    s.total_revenue,\n    q.avg_queue_len,\n    a.open_alerts,\n    h.hottest_zone,\n    w.worst_stockout\nFROM sales_summary s\nFULL OUTER JOIN queue_summary q ON s.minute_ts = q.minute_ts\nFULL OUTER JOIN alert_summary a ON s.minute_ts = a.minute_ts\nFULL OUTER JOIN hottest_zone h ON s.minute_ts = h.minute_ts\nFULL OUTER JOIN worst_stockout w ON s.minute_ts = w.minute_ts;",
   "execution_count": null
  },
  {
   "cell_type": "code",
   "id": "9aec47f2-c1fc-4367-97f9-a3fc7df433cc",
   "metadata": {
    "language": "sql",
    "name": "QA_DT_AERNA_DASHBOARD"
   },
   "outputs": [],
   "source": "-- QA\nSELECT *\nFROM DT_ARENA_DASHBOARD\nORDER BY 1;",
   "execution_count": null
  },
  {
   "cell_type": "markdown",
   "id": "12deadc4-2e2e-40cc-8f12-3312794f089e",
   "metadata": {
    "name": "INTRO_DATA_SIM",
    "collapsed": false
   },
   "source": "### 16. Continuous Data Simulation\n\n**Objective**: Run ongoing synthetic data generation.\n\n**Context**: This Python script calls `INSERT_ARENA_EVENTS_SINGLE` in a loop, adding new events every 10 seconds to mimic live stadium data.\n\n**Value**: Tests the pipeline’s real-time response, ensuring Dynamic Tables refresh and deliver insights as events flow, prepping for live games.\n\n**Note**: Stop manually or set `max_iterations` for control.\n\n**Next**: Suspend tables when done."
  },
  {
   "cell_type": "code",
   "id": "80633c8f-06a9-4354-a5fd-78e09ae266f5",
   "metadata": {
    "language": "python",
    "name": "DATA_SIMULATION"
   },
   "outputs": [],
   "source": "from snowflake.snowpark.context import get_active_session\nimport time\n\nsession = get_active_session()\n\ndef run_continuous_insert(session, max_iterations=None):\n    iteration_count = 0\n    while max_iterations is None or iteration_count < max_iterations:\n        # Call the stored procedure\n        result = session.call(\"insert_arena_events_single\")\n        print(result)\n        \n        # Wait for 10 seconds\n        time.sleep(10)\n        iteration_count += 1\n\n        \nrun_continuous_insert(session, max_iterations=None)",
   "execution_count": null
  },
  {
   "cell_type": "markdown",
   "id": "c0ff47d4-ed43-48f8-9c82-0f1d09a6f61b",
   "metadata": {
    "name": "INTOR_SUSPEND",
    "collapsed": false
   },
   "source": "### 17. Suspend Dynamic Tables\n\n**Objective**: Pause Dynamic Tables to save resources.\n\n**Context**: This SQL suspends all Dynamic Tables—`DT_CLEAN_EVENTS`, `DT_SALES_MINUTE`, `DT_INVENTORY_STATUS`, `DT_QUEUE_METRICS`, `DT_ENV_COMFORT`, `DT_OPS_ALERTS`, `DT_ARENA_DASHBOARD`—halting refreshes.\n\n**Value**: Conserves compute costs when testing or simulation is complete, maintaining efficiency.\n\n**Note**: Resume with `ALTER DYNAMIC TABLE <name> RESUME` when ready."
  },
  {
   "cell_type": "code",
   "id": "dc6a0574-8df1-4e61-839e-4ccae48b97dd",
   "metadata": {
    "language": "sql",
    "name": "SUSPEND"
   },
   "outputs": [],
   "source": "ALTER DYNAMIC TABLE DT_ENV_COMFORT SUSPEND;\nALTER DYNAMIC TABLE DT_CLEAN_EVENTS SUSPEND;\nALTER DYNAMIC TABLE DT_ARENA_DASHBOARD SUSPEND;\nALTER DYNAMIC TABLE DT_INVENTORY_STATUS SUSPEND;\nALTER DYNAMIC TABLE DT_OPS_ALERTS SUSPEND;\nALTER DYNAMIC TABLE DT_QUEUE_METRICS SUSPEND;\nALTER DYNAMIC TABLE DT_SALES_MINUTE SUSPEND;",
   "execution_count": null
  }
 ]
}